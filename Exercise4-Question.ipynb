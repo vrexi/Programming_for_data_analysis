{
  "nbformat": 4,
  "nbformat_minor": 0,
  "metadata": {
    "coursera": {
      "course_slug": "introduction-tensorflow",
      "graded_item_id": "1kAlw",
      "launcher_item_id": "PNLYD"
    },
    "kernelspec": {
      "display_name": "Python 3",
      "language": "python",
      "name": "python3"
    },
    "language_info": {
      "codemirror_mode": {
        "name": "ipython",
        "version": 3
      },
      "file_extension": ".py",
      "mimetype": "text/x-python",
      "name": "python",
      "nbconvert_exporter": "python",
      "pygments_lexer": "ipython3",
      "version": "3.6.8"
    },
    "colab": {
      "name": "Exercise4-Question.ipynb",
      "provenance": [],
      "include_colab_link": true
    }
  },
  "cells": [
    {
      "cell_type": "markdown",
      "metadata": {
        "id": "view-in-github",
        "colab_type": "text"
      },
      "source": [
        "<a href=\"https://colab.research.google.com/github/vrexi/Programming_for_data_analysis/blob/main/Exercise4-Question.ipynb\" target=\"_parent\"><img src=\"https://colab.research.google.com/assets/colab-badge.svg\" alt=\"Open In Colab\"/></a>"
      ]
    },
    {
      "cell_type": "markdown",
      "metadata": {
        "id": "UncprnB0ymAE"
      },
      "source": [
        "Ниже приведен код со ссылкой на набор данных «happy» или «sad», содержащий 80 изображений, 40 счастливых и 40 грустных.\n",
        "Создайте сверточную нейронную сеть, которая обучается со 100% точностью на этих изображениях, с отменой обучения при достижении точности обучения .999"
      ]
    },
    {
      "cell_type": "code",
      "metadata": {
        "id": "-ALIEF4A2tTr",
        "outputId": "f7319255-98de-461d-8324-43035048144d",
        "colab": {
          "base_uri": "https://localhost:8080/"
        }
      },
      "source": [
        "import tensorflow as tf\n",
        "import os\n",
        "import zipfile\n",
        "#\n",
        "!wget --no-check-certificate \"https://github.com/andrew-veriga/Tensorflow-labs/raw/master/happy-or-sad.zip\" \\\n",
        "   -O \"/tmp/happy-or-sad.zip\"\n"
      ],
      "execution_count": null,
      "outputs": [
        {
          "output_type": "stream",
          "name": "stdout",
          "text": [
            "--2023-02-06 10:06:54--  https://github.com/andrew-veriga/Tensorflow-labs/raw/master/happy-or-sad.zip\n",
            "Resolving github.com (github.com)... 20.27.177.113\n",
            "Connecting to github.com (github.com)|20.27.177.113|:443... connected.\n",
            "HTTP request sent, awaiting response... 302 Found\n",
            "Location: https://raw.githubusercontent.com/andrew-veriga/Tensorflow-labs/master/happy-or-sad.zip [following]\n",
            "--2023-02-06 10:06:54--  https://raw.githubusercontent.com/andrew-veriga/Tensorflow-labs/master/happy-or-sad.zip\n",
            "Resolving raw.githubusercontent.com (raw.githubusercontent.com)... 185.199.111.133, 185.199.108.133, 185.199.109.133, ...\n",
            "Connecting to raw.githubusercontent.com (raw.githubusercontent.com)|185.199.111.133|:443... connected.\n",
            "HTTP request sent, awaiting response... 200 OK\n",
            "Length: 2670333 (2.5M) [application/zip]\n",
            "Saving to: ‘/tmp/happy-or-sad.zip’\n",
            "\n",
            "/tmp/happy-or-sad.z 100%[===================>]   2.55M  --.-KB/s    in 0.08s   \n",
            "\n",
            "2023-02-06 10:06:55 (33.2 MB/s) - ‘/tmp/happy-or-sad.zip’ saved [2670333/2670333]\n",
            "\n"
          ]
        }
      ]
    },
    {
      "cell_type": "code",
      "source": [
        "\n",
        "zip_ref = zipfile.ZipFile(\"/tmp/happy-or-sad.zip\", 'r')\n",
        "zip_ref.extractall(\"/tmp/h-or-s\")\n",
        "zip_ref.close()\n",
        "\n",
        "import os\n",
        "\n",
        "train_happy_dir = os.path.join('/tmp/h-or-s/happy')\n",
        "\n",
        "train_sad_dir = os.path.join('/tmp/h-or-s/sad')\n",
        "\n",
        "train_happy_names = os.listdir(train_happy_dir)\n",
        "print(train_happy_names[:10])\n",
        "\n",
        "train_sad_names = os.listdir(train_sad_dir)\n",
        "print(train_sad_names[:10])"
      ],
      "metadata": {
        "id": "sv4QjJ3MKOfn",
        "outputId": "6bd5e064-f277-40f7-a6de-7b7a50043f38",
        "colab": {
          "base_uri": "https://localhost:8080/"
        }
      },
      "execution_count": null,
      "outputs": [
        {
          "output_type": "stream",
          "name": "stdout",
          "text": [
            "['happy1-14.png', 'happy2-08.png', 'happy2-16.png', 'happy2-13.png', 'happy2-11.png', 'happy1-10.png', 'happy2-05.png', 'happy1-03.png', 'happy2-19.png', 'happy2-15.png']\n",
            "['sad1-19.png', 'sad1-08.png', 'sad2-00.png', 'sad1-12.png', 'sad1-03.png', 'sad2-05.png', 'sad1-07.png', 'sad1-17.png', 'sad1-18.png', 'sad1-09.png']\n"
          ]
        }
      ]
    },
    {
      "cell_type": "code",
      "metadata": {
        "id": "11_S4Hd66Lqd",
        "outputId": "c0201898-b63f-4ff4-b0c2-7308ce26a2d4",
        "colab": {
          "base_uri": "https://localhost:8080/"
        }
      },
      "source": [
        "import os\n",
        "\n",
        "train_happy_dir = os.path.join('/tmp/h-or-s/happy')\n",
        "\n",
        "train_sad_dir = os.path.join('/tmp/h-or-s/sad')\n",
        "\n",
        "train_happy_names = os.listdir(train_happy_dir)\n",
        "print(train_happy_names[:10])\n",
        "\n",
        "train_sad_names = os.listdir(train_sad_dir)\n",
        "print(train_sad_names[:10])"
      ],
      "execution_count": null,
      "outputs": [
        {
          "output_type": "stream",
          "name": "stdout",
          "text": [
            "['happy1-14.png', 'happy2-08.png', 'happy2-16.png', 'happy2-13.png', 'happy2-11.png', 'happy1-10.png', 'happy2-05.png', 'happy1-03.png', 'happy2-19.png', 'happy2-15.png']\n",
            "['sad1-19.png', 'sad1-08.png', 'sad2-00.png', 'sad1-12.png', 'sad1-03.png', 'sad2-05.png', 'sad1-07.png', 'sad1-17.png', 'sad1-18.png', 'sad1-09.png']\n"
          ]
        }
      ]
    },
    {
      "cell_type": "code",
      "metadata": {
        "id": "5gZoRjft2tTw"
      },
      "source": [
        "\n",
        "DESIRED_ACCURACY = 0.999\n",
        "\n",
        "class myCallback(# your code):\n",
        "      # Your Code\n",
        "\n",
        "callbacks = myCallback()\n",
        "\n",
        "# Этот блок кода должен задать и скомпилировать модель. Пожалуйста, имейте в виду, что размер изображений 150 X 150\n",
        "model = tf.keras.models.Sequential([\n",
        "    # Здесь ваш код\n",
        "])\n",
        "\n",
        "from tensorflow.keras.optimizers import RMSprop\n",
        "\n",
        "model.compile(# здесь ваш код #)\n",
        "\n",
        "\n",
        "  # Этот блок кода должен создать экземпляр ImageDataGenerator с именем train_datagen\n",
        "  # и train_generator, вызовом train_datagen.flow_from_directory\n",
        "\n",
        "from tensorflow.keras.preprocessing.image import ImageDataGenerator\n",
        "\n",
        "train_datagen = # Your Code Here\n",
        "\n",
        "# Используйте target_size  150 X 150.\n",
        "train_generator = train_datagen.flow_from_directory(\n",
        "    # Здесь ваш код #)\n",
        "# ожидаемая строка вывода: 'Found 80 images belonging to 2 classes'\n",
        "\n",
        "# model fitting\n",
        "history = model.fit(\n",
        "      # Ваш код здесь\n",
        "      )\n",
        "\n",
        "# ожидаемая строка вывода: \"Достигнута точность 99.9%, обучение прерывается!\"\n"
      ],
      "execution_count": null,
      "outputs": []
    },
    {
      "cell_type": "code",
      "source": [],
      "metadata": {
        "id": "iOPLvQ5eQk0u"
      },
      "execution_count": null,
      "outputs": []
    },
    {
      "cell_type": "code",
      "metadata": {
        "id": "XtZC9HlK2tTz"
      },
      "source": [],
      "execution_count": null,
      "outputs": []
    }
  ]
}