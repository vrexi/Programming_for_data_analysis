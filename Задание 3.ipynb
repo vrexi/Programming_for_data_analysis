{
 "cells": [
  {
   "cell_type": "markdown",
   "metadata": {},
   "source": [
    "## Задачи 1\n",
    "\n",
    "\n",
    "1. Загрузите таблицу **exoplanet_catalog**, содержащую данные о планетах за пределами Солнечной системы, или экзопланетах. Сформируйте из данной таблицы новый датасет под назанием **exoplanet**, коорая будет содердать стоблцы name, mass, radius, discovered. Проверьте, чтобы название всех столбцов было корректным, при необходмости измените названия.\n",
    "\n",
    "2. Удалите из получившейся таблица строки с нулевыми значениями.\n",
    "\n",
    "3. Убедитесь, что таблица не содержит ни пропущенных значений, ни дубликатов.\n",
    "\n",
    "\n"
   ]
  },
  {
   "cell_type": "code",
   "execution_count": 26,
   "metadata": {},
   "outputs": [],
   "source": [
    "import pandas as pd\n",
    "exoplanet_catalog = pd.read_csv('exoplanet_catalog.csv')"
   ]
  },
  {
   "cell_type": "code",
   "execution_count": 27,
   "metadata": {},
   "outputs": [
    {
     "data": {
      "text/plain": [
       "Index(['# name', 'planet_status', 'mass', 'mass_error_min', 'mass_error_max',\n",
       "       'mass_sini', 'mass_sini_error_min', 'mass_sini_error_max', 'radius',\n",
       "       'radius_error_min', 'radius_error_max', 'orbital_period',\n",
       "       'orbital_period_error_min', 'orbital_period_error_max',\n",
       "       'semi_major_axis', 'semi_major_axis_error_min',\n",
       "       'semi_major_axis_error_max', 'eccentricity', 'eccentricity_error_min',\n",
       "       'eccentricity_error_max', 'inclination', 'inclination_error_min',\n",
       "       'inclination_error_max', 'angular_distance', 'discovered', 'updated',\n",
       "       'omega', 'omega_error_min', 'omega_error_max', 'tperi',\n",
       "       'tperi_error_min', 'tperi_error_max', 'tconj', 'tconj_error_min',\n",
       "       'tconj_error_max', 'tzero_tr', 'tzero_tr_error_min',\n",
       "       'tzero_tr_error_max', 'tzero_tr_sec', 'tzero_tr_sec_error_min',\n",
       "       'tzero_tr_sec_error_max', 'lambda_angle', 'lambda_angle_error_min',\n",
       "       'lambda_angle_error_max', 'impact_parameter',\n",
       "       'impact_parameter_error_min', 'impact_parameter_error_max', 'tzero_vr',\n",
       "       'tzero_vr_error_min', 'tzero_vr_error_max', 'k', 'k_error_min',\n",
       "       'k_error_max', 'temp_calculated', 'temp_calculated_error_min',\n",
       "       'temp_calculated_error_max', 'temp_measured', 'hot_point_lon',\n",
       "       'geometric_albedo', 'geometric_albedo_error_min',\n",
       "       'geometric_albedo_error_max', 'log_g', 'publication', 'detection_type',\n",
       "       'mass_detection_type', 'radius_detection_type', 'alternate_names',\n",
       "       'molecules', 'star_name', 'ra', 'dec', 'mag_v', 'mag_i', 'mag_j',\n",
       "       'mag_h', 'mag_k', 'star_distance', 'star_distance_error_min',\n",
       "       'star_distance_error_max', 'star_metallicity',\n",
       "       'star_metallicity_error_min', 'star_metallicity_error_max', 'star_mass',\n",
       "       'star_mass_error_min', 'star_mass_error_max', 'star_radius',\n",
       "       'star_radius_error_min', 'star_radius_error_max', 'star_sp_type',\n",
       "       'star_age', 'star_age_error_min', 'star_age_error_max', 'star_teff',\n",
       "       'star_teff_error_min', 'star_teff_error_max', 'star_detected_disc',\n",
       "       'star_magnetic_field', 'star_alternate_names'],\n",
       "      dtype='object')"
      ]
     },
     "execution_count": 27,
     "metadata": {},
     "output_type": "execute_result"
    }
   ],
   "source": [
    "exoplanet_catalog.columns"
   ]
  },
  {
   "cell_type": "code",
   "execution_count": 15,
   "metadata": {},
   "outputs": [],
   "source": [
    "exoplanet_catalog.rename(columns = {'# name' : 'name'}, inplace = True)"
   ]
  },
  {
   "cell_type": "code",
   "execution_count": 17,
   "metadata": {},
   "outputs": [
    {
     "data": {
      "text/html": [
       "<div>\n",
       "<style scoped>\n",
       "    .dataframe tbody tr th:only-of-type {\n",
       "        vertical-align: middle;\n",
       "    }\n",
       "\n",
       "    .dataframe tbody tr th {\n",
       "        vertical-align: top;\n",
       "    }\n",
       "\n",
       "    .dataframe thead th {\n",
       "        text-align: right;\n",
       "    }\n",
       "</style>\n",
       "<table border=\"1\" class=\"dataframe\">\n",
       "  <thead>\n",
       "    <tr style=\"text-align: right;\">\n",
       "      <th></th>\n",
       "      <th>name</th>\n",
       "      <th>mass</th>\n",
       "      <th>radius</th>\n",
       "      <th>discovered</th>\n",
       "    </tr>\n",
       "  </thead>\n",
       "  <tbody>\n",
       "    <tr>\n",
       "      <th>0</th>\n",
       "      <td>11 Com b</td>\n",
       "      <td>NaN</td>\n",
       "      <td>NaN</td>\n",
       "      <td>2008.0</td>\n",
       "    </tr>\n",
       "    <tr>\n",
       "      <th>1</th>\n",
       "      <td>11 Oph b</td>\n",
       "      <td>21.00</td>\n",
       "      <td>NaN</td>\n",
       "      <td>2007.0</td>\n",
       "    </tr>\n",
       "    <tr>\n",
       "      <th>2</th>\n",
       "      <td>11 UMi b</td>\n",
       "      <td>NaN</td>\n",
       "      <td>NaN</td>\n",
       "      <td>2009.0</td>\n",
       "    </tr>\n",
       "    <tr>\n",
       "      <th>3</th>\n",
       "      <td>14 And b</td>\n",
       "      <td>NaN</td>\n",
       "      <td>NaN</td>\n",
       "      <td>2008.0</td>\n",
       "    </tr>\n",
       "    <tr>\n",
       "      <th>4</th>\n",
       "      <td>14 Her b</td>\n",
       "      <td>NaN</td>\n",
       "      <td>NaN</td>\n",
       "      <td>2002.0</td>\n",
       "    </tr>\n",
       "    <tr>\n",
       "      <th>...</th>\n",
       "      <td>...</td>\n",
       "      <td>...</td>\n",
       "      <td>...</td>\n",
       "      <td>...</td>\n",
       "    </tr>\n",
       "    <tr>\n",
       "      <th>4791</th>\n",
       "      <td>ups And b</td>\n",
       "      <td>0.62</td>\n",
       "      <td>NaN</td>\n",
       "      <td>1996.0</td>\n",
       "    </tr>\n",
       "    <tr>\n",
       "      <th>4792</th>\n",
       "      <td>ups And c</td>\n",
       "      <td>9.10</td>\n",
       "      <td>NaN</td>\n",
       "      <td>1999.0</td>\n",
       "    </tr>\n",
       "    <tr>\n",
       "      <th>4793</th>\n",
       "      <td>ups And d</td>\n",
       "      <td>23.58</td>\n",
       "      <td>NaN</td>\n",
       "      <td>1999.0</td>\n",
       "    </tr>\n",
       "    <tr>\n",
       "      <th>4794</th>\n",
       "      <td>ups And e</td>\n",
       "      <td>NaN</td>\n",
       "      <td>NaN</td>\n",
       "      <td>2010.0</td>\n",
       "    </tr>\n",
       "    <tr>\n",
       "      <th>4795</th>\n",
       "      <td>zet Del B</td>\n",
       "      <td>40.00</td>\n",
       "      <td>NaN</td>\n",
       "      <td>2014.0</td>\n",
       "    </tr>\n",
       "  </tbody>\n",
       "</table>\n",
       "<p>4796 rows × 4 columns</p>\n",
       "</div>"
      ],
      "text/plain": [
       "           name   mass  radius  discovered\n",
       "0      11 Com b    NaN     NaN      2008.0\n",
       "1      11 Oph b  21.00     NaN      2007.0\n",
       "2      11 UMi b    NaN     NaN      2009.0\n",
       "3      14 And b    NaN     NaN      2008.0\n",
       "4      14 Her b    NaN     NaN      2002.0\n",
       "...         ...    ...     ...         ...\n",
       "4791  ups And b   0.62     NaN      1996.0\n",
       "4792  ups And c   9.10     NaN      1999.0\n",
       "4793  ups And d  23.58     NaN      1999.0\n",
       "4794  ups And e    NaN     NaN      2010.0\n",
       "4795  zet Del B  40.00     NaN      2014.0\n",
       "\n",
       "[4796 rows x 4 columns]"
      ]
     },
     "execution_count": 17,
     "metadata": {},
     "output_type": "execute_result"
    }
   ],
   "source": [
    "exoplanet = exoplanet_catalog[['name', 'mass', 'radius', 'discovered']]\n",
    "exoplanet"
   ]
  },
  {
   "cell_type": "code",
   "execution_count": 28,
   "metadata": {},
   "outputs": [
    {
     "name": "stderr",
     "output_type": "stream",
     "text": [
      "C:\\Users\\user\\AppData\\Local\\Temp\\ipykernel_7112\\1863464537.py:1: SettingWithCopyWarning: \n",
      "A value is trying to be set on a copy of a slice from a DataFrame\n",
      "\n",
      "See the caveats in the documentation: https://pandas.pydata.org/pandas-docs/stable/user_guide/indexing.html#returning-a-view-versus-a-copy\n",
      "  exoplanet.dropna(inplace = True)\n"
     ]
    }
   ],
   "source": [
    "exoplanet.dropna(inplace = True)"
   ]
  },
  {
   "cell_type": "code",
   "execution_count": 110,
   "metadata": {},
   "outputs": [
    {
     "data": {
      "text/plain": [
       "name          0\n",
       "mass          0\n",
       "radius        0\n",
       "discovered    0\n",
       "dtype: int64"
      ]
     },
     "execution_count": 110,
     "metadata": {},
     "output_type": "execute_result"
    }
   ],
   "source": [
    "exoplanet.isna().sum()"
   ]
  },
  {
   "cell_type": "code",
   "execution_count": 30,
   "metadata": {},
   "outputs": [
    {
     "data": {
      "text/plain": [
       "0"
      ]
     },
     "execution_count": 30,
     "metadata": {},
     "output_type": "execute_result"
    }
   ],
   "source": [
    "exoplanet.duplicated().sum()"
   ]
  },
  {
   "cell_type": "markdown",
   "metadata": {},
   "source": [
    "## Задачи 2\n",
    "\n",
    "1. Меломаны у нас есть. Сейчас узнаем идентификатор **user_id** одного из них. Для этого сгруппируем данные по каждому пользователю, чтобы собрать жанры прослушанных им композиций.\n",
    "\n",
    "Сгруппируйте DataFrame по столбцу user_id, сохраните полученный результат в переменной genre_grouping.\n",
    "\n",
    "Посчитайте количество жанров, которые выбрали пользователи, методом count(), указав, что выбираем один столбец genre_name.\n",
    "\n",
    "Сохраните результат в переменной genre_counting и выведите первые 30 строк этой таблицы.\n",
    "\n",
    "2. Быть может, те, кто за день слушает больше 50 песен, имеют более широкие предпочтения. Чтобы найти такого, изготовим универсальный инструмент.\n",
    "\n",
    "Напишите функцию user_genres, которая принимает некую группировку как свой аргумент group. Функция должна перебирать группы, входящие в эту группировку.\n",
    "\n",
    "В каждой группе два элемента — имя группы с индексом 0 и список значений с индексом 1.\n",
    "\n",
    "Обнаружив такую группу, в которой список (элемент с индексом 1) содержит более 50 значений, функция возвращает имя группы (значение элемента с индексом 0).\n",
    "\n",
    "3. Вызовите функцию **user_genres**, как аргумент передайте ей **genre_grouping**. Результат – **user_id** неведомого нам любителя музыки – сохраните в переменной **search_id** и выведите значение на экран.\n"
   ]
  },
  {
   "cell_type": "code",
   "execution_count": 60,
   "metadata": {},
   "outputs": [],
   "source": [
    "music = pd.read_csv('yandex_music.csv')"
   ]
  },
  {
   "cell_type": "code",
   "execution_count": 61,
   "metadata": {},
   "outputs": [
    {
     "name": "stdout",
     "output_type": "stream",
     "text": [
      "<class 'pandas.core.frame.DataFrame'>\n",
      "Index: 63881 entries, 0 to 65078\n",
      "Data columns (total 7 columns):\n",
      " #   Column              Non-Null Count  Dtype \n",
      "---  ------              --------------  ----- \n",
      " 0   user_id             63881 non-null  object\n",
      " 1   track_name          63881 non-null  object\n",
      " 2   artist_name         63881 non-null  object\n",
      " 3   genre_name          63881 non-null  object\n",
      " 4   city                63881 non-null  object\n",
      " 5   total_play_seconds  63881 non-null  object\n",
      " 6   day                 63881 non-null  object\n",
      "dtypes: object(7)\n",
      "memory usage: 3.9+ MB\n"
     ]
    }
   ],
   "source": [
    "new_names = {'Day': 'day',  '  City  ': 'city',  '  userID' : 'user_id', 'time': 'total_play_seconds', 'artist': 'artist_name', 'genre': 'genre_name', 'Track': 'track_name'}\n",
    "music.rename(columns = new_names, inplace = True)\n",
    "music['track_name'] = music['track_name'].fillna('unknown')\n",
    "music['artist_name'] = music['artist_name'].fillna('unknown')\n",
    "music.dropna(subset = ['genre_name'], inplace=True)\n",
    "music.drop_duplicates().reset_index(drop = True)\n",
    "music['genre_name'] = music['genre_name'].replace('электроника', 'electronic')\n",
    "music.info()\n"
   ]
  },
  {
   "cell_type": "code",
   "execution_count": 65,
   "metadata": {},
   "outputs": [],
   "source": [
    "genre_grouping = music.groupby('user_id')"
   ]
  },
  {
   "cell_type": "code",
   "execution_count": 67,
   "metadata": {},
   "outputs": [
    {
     "data": {
      "text/plain": [
       "user_id\n",
       "10004220    3\n",
       "100173ED    1\n",
       "1001CE90    7\n",
       "1002410A    3\n",
       "100261F9    2\n",
       "1004AAE6    1\n",
       "1004C5D8    1\n",
       "1005BECA    1\n",
       "10089377    3\n",
       "100AB021    1\n",
       "100ACFBC    1\n",
       "10101201    2\n",
       "10107FC7    2\n",
       "10112F4C    2\n",
       "1016144E    1\n",
       "1016C39F    2\n",
       "10180175    1\n",
       "101861D1    2\n",
       "10189D10    8\n",
       "101AAA19    1\n",
       "101B046A    2\n",
       "101B53F1    1\n",
       "101BBC61    1\n",
       "101C12A4    2\n",
       "101D714C    1\n",
       "101E910F    1\n",
       "10211433    1\n",
       "10222F55    1\n",
       "1022B77E    1\n",
       "10246DCB    2\n",
       "Name: genre_name, dtype: int64"
      ]
     },
     "execution_count": 67,
     "metadata": {},
     "output_type": "execute_result"
    }
   ],
   "source": [
    "genre_counting = genre_grouping['genre_name'].count()\n",
    "genre_counting.head(30)"
   ]
  },
  {
   "cell_type": "code",
   "execution_count": 96,
   "metadata": {},
   "outputs": [],
   "source": [
    "def user_genres(group):\n",
    "    for name_group, values in group:\n",
    "        if len(values) > 50:\n",
    "            return name_group"
   ]
  },
  {
   "cell_type": "code",
   "execution_count": 97,
   "metadata": {},
   "outputs": [
    {
     "data": {
      "text/plain": [
       "'7D166C63'"
      ]
     },
     "execution_count": 97,
     "metadata": {},
     "output_type": "execute_result"
    }
   ],
   "source": [
    "search_id = user_genres(genre_grouping)\n",
    "search_id"
   ]
  },
  {
   "cell_type": "markdown",
   "metadata": {},
   "source": [
    "\n",
    "## Задачи 3\n",
    "\n",
    "1. Космический телескоп Kepler открыл похожую на Землю планету у похожей на Солнце звезды. А вы в данных Яндекс.Музыки обнаружили меломана с уникальными данными. Он за день послушал больше 50 композиций.\n",
    "Получите таблицу с прослушанными им треками.\n",
    "\n",
    "Для этого запросите из структуры данных df строки, отвечающие сразу двум условиям:\n",
    "\n",
    "1) значение в столбце 'user_id' должно быть равно значению переменной search_id;\n",
    "\n",
    "2) время прослушивания, т.е. значение в столбце 'total_play_seconds', не должно равняться 0.\n",
    "\n",
    "Сохраните результат в переменной music_user.\n",
    "\n",
    "2. Теперь узнаем, сколько времени он слушал музыку каждого жанра.\n",
    "\n",
    "Сгруппируйте данные таблицы music_user по столбцу 'genre_name' и получите сумму значений столбца 'total_play_seconds'. Сохраните результат в переменной sum_music_user и выведите её значение на экран.\n",
    "\n",
    "3. Кажется, предпочтения нашего меломана начинают проявляться. Но, возможно, длительность композиций от жанра к жанру сильно различается. Важно знать, сколько треков каждого жанра он включил.\n",
    "\n",
    "Сгруппируйте данные по столбцу genre_name и посчитайте, сколько значений в столбце genre_name. Сохраните результат в переменной count_music_user и выведите её значение на экран.\n",
    "\n",
    "4. Чтобы предпочтения были видны сразу, нужно крупнейшие значения расположить наверху. Отсортируйте данные в группировке sum_music_user по убыванию. Внимание: когда применяете метод sort_values() к Series с единственным столбцом, аргумент by указывать не нужно, только порядок сортировки.\n",
    "\n",
    "Сохраните результат в переменной final_sum и выведите её значение на экран.\n",
    "\n",
    "5. Теперь то же самое надо сделать с числом прослушанных меломаном композиций. Отсортируйте данные группировки count_music_user по убыванию. Сохраните результат в переменной final_count, значение которой выведите на экран.\n"
   ]
  },
  {
   "cell_type": "code",
   "execution_count": 101,
   "metadata": {},
   "outputs": [
    {
     "data": {
      "text/html": [
       "<div>\n",
       "<style scoped>\n",
       "    .dataframe tbody tr th:only-of-type {\n",
       "        vertical-align: middle;\n",
       "    }\n",
       "\n",
       "    .dataframe tbody tr th {\n",
       "        vertical-align: top;\n",
       "    }\n",
       "\n",
       "    .dataframe thead th {\n",
       "        text-align: right;\n",
       "    }\n",
       "</style>\n",
       "<table border=\"1\" class=\"dataframe\">\n",
       "  <thead>\n",
       "    <tr style=\"text-align: right;\">\n",
       "      <th></th>\n",
       "      <th>user_id</th>\n",
       "      <th>track_name</th>\n",
       "      <th>artist_name</th>\n",
       "      <th>genre_name</th>\n",
       "      <th>city</th>\n",
       "      <th>total_play_seconds</th>\n",
       "      <th>day</th>\n",
       "    </tr>\n",
       "  </thead>\n",
       "  <tbody>\n",
       "    <tr>\n",
       "      <th>274</th>\n",
       "      <td>7D166C63</td>\n",
       "      <td>unknown</td>\n",
       "      <td>unknown</td>\n",
       "      <td>jazz</td>\n",
       "      <td>Saint-Petersburg</td>\n",
       "      <td>20:29:53</td>\n",
       "      <td>Wednesday</td>\n",
       "    </tr>\n",
       "    <tr>\n",
       "      <th>2375</th>\n",
       "      <td>7D166C63</td>\n",
       "      <td>unknown</td>\n",
       "      <td>unknown</td>\n",
       "      <td>pop</td>\n",
       "      <td>Saint-Petersburg</td>\n",
       "      <td>20:34:44</td>\n",
       "      <td>Wednesday</td>\n",
       "    </tr>\n",
       "    <tr>\n",
       "      <th>2561</th>\n",
       "      <td>7D166C63</td>\n",
       "      <td>unknown</td>\n",
       "      <td>unknown</td>\n",
       "      <td>country</td>\n",
       "      <td>Saint-Petersburg</td>\n",
       "      <td>08:39:24</td>\n",
       "      <td>Monday</td>\n",
       "    </tr>\n",
       "    <tr>\n",
       "      <th>3096</th>\n",
       "      <td>7D166C63</td>\n",
       "      <td>unknown</td>\n",
       "      <td>unknown</td>\n",
       "      <td>schlager</td>\n",
       "      <td>Saint-Petersburg</td>\n",
       "      <td>08:42:55</td>\n",
       "      <td>Wednesday</td>\n",
       "    </tr>\n",
       "    <tr>\n",
       "      <th>4334</th>\n",
       "      <td>7D166C63</td>\n",
       "      <td>unknown</td>\n",
       "      <td>unknown</td>\n",
       "      <td>jazz</td>\n",
       "      <td>Saint-Petersburg</td>\n",
       "      <td>14:23:27</td>\n",
       "      <td>Monday</td>\n",
       "    </tr>\n",
       "    <tr>\n",
       "      <th>5671</th>\n",
       "      <td>7D166C63</td>\n",
       "      <td>unknown</td>\n",
       "      <td>unknown</td>\n",
       "      <td>pop</td>\n",
       "      <td>Saint-Petersburg</td>\n",
       "      <td>08:46:51</td>\n",
       "      <td>Monday</td>\n",
       "    </tr>\n",
       "    <tr>\n",
       "      <th>6498</th>\n",
       "      <td>7D166C63</td>\n",
       "      <td>unknown</td>\n",
       "      <td>unknown</td>\n",
       "      <td>pop</td>\n",
       "      <td>Saint-Petersburg</td>\n",
       "      <td>14:23:30</td>\n",
       "      <td>Monday</td>\n",
       "    </tr>\n",
       "    <tr>\n",
       "      <th>7187</th>\n",
       "      <td>7D166C63</td>\n",
       "      <td>unknown</td>\n",
       "      <td>unknown</td>\n",
       "      <td>pop</td>\n",
       "      <td>Saint-Petersburg</td>\n",
       "      <td>08:25:33</td>\n",
       "      <td>Wednesday</td>\n",
       "    </tr>\n",
       "    <tr>\n",
       "      <th>8388</th>\n",
       "      <td>7D166C63</td>\n",
       "      <td>unknown</td>\n",
       "      <td>unknown</td>\n",
       "      <td>pop</td>\n",
       "      <td>Saint-Petersburg</td>\n",
       "      <td>14:22:43</td>\n",
       "      <td>Monday</td>\n",
       "    </tr>\n",
       "    <tr>\n",
       "      <th>8906</th>\n",
       "      <td>7D166C63</td>\n",
       "      <td>unknown</td>\n",
       "      <td>unknown</td>\n",
       "      <td>jazz</td>\n",
       "      <td>Saint-Petersburg</td>\n",
       "      <td>14:16:10</td>\n",
       "      <td>Monday</td>\n",
       "    </tr>\n",
       "  </tbody>\n",
       "</table>\n",
       "</div>"
      ],
      "text/plain": [
       "       user_id track_name artist_name genre_name              city  \\\n",
       "274   7D166C63    unknown     unknown       jazz  Saint-Petersburg   \n",
       "2375  7D166C63    unknown     unknown        pop  Saint-Petersburg   \n",
       "2561  7D166C63    unknown     unknown    country  Saint-Petersburg   \n",
       "3096  7D166C63    unknown     unknown   schlager  Saint-Petersburg   \n",
       "4334  7D166C63    unknown     unknown       jazz  Saint-Petersburg   \n",
       "5671  7D166C63    unknown     unknown        pop  Saint-Petersburg   \n",
       "6498  7D166C63    unknown     unknown        pop  Saint-Petersburg   \n",
       "7187  7D166C63    unknown     unknown        pop  Saint-Petersburg   \n",
       "8388  7D166C63    unknown     unknown        pop  Saint-Petersburg   \n",
       "8906  7D166C63    unknown     unknown       jazz  Saint-Petersburg   \n",
       "\n",
       "     total_play_seconds        day  \n",
       "274            20:29:53  Wednesday  \n",
       "2375           20:34:44  Wednesday  \n",
       "2561           08:39:24     Monday  \n",
       "3096           08:42:55  Wednesday  \n",
       "4334           14:23:27     Monday  \n",
       "5671           08:46:51     Monday  \n",
       "6498           14:23:30     Monday  \n",
       "7187           08:25:33  Wednesday  \n",
       "8388           14:22:43     Monday  \n",
       "8906           14:16:10     Monday  "
      ]
     },
     "execution_count": 101,
     "metadata": {},
     "output_type": "execute_result"
    }
   ],
   "source": [
    "music_user = music[ (music['user_id'] == search_id) & (music['total_play_seconds'] != 0) ]\n",
    "music_user.head(10)"
   ]
  },
  {
   "cell_type": "code",
   "execution_count": 103,
   "metadata": {},
   "outputs": [
    {
     "data": {
      "text/plain": [
       "genre_name\n",
       "classical                                              20:26:32\n",
       "country                                                08:39:24\n",
       "dance                                          14:11:5614:23:32\n",
       "folk                                                   13:52:18\n",
       "folkrock                                               14:29:08\n",
       "ghazal                                                 08:32:18\n",
       "hip                                                    20:29:56\n",
       "jazz          20:29:5314:23:2714:16:1014:23:0608:39:3914:09:...\n",
       "pop           20:34:4408:46:5114:23:3008:25:3314:22:4309:04:...\n",
       "punk                                                   13:52:12\n",
       "reggae                                         08:46:5509:04:14\n",
       "rnb                                                    08:32:10\n",
       "rock                   14:12:0214:23:4308:35:5808:56:3008:35:58\n",
       "schlager               08:42:5508:39:3814:13:5409:04:1908:35:45\n",
       "soundtrack                                             14:09:56\n",
       "Name: total_play_seconds, dtype: object"
      ]
     },
     "execution_count": 103,
     "metadata": {},
     "output_type": "execute_result"
    }
   ],
   "source": [
    "\n",
    "sum_music_user = music_user.groupby('genre_name')['total_play_seconds'].sum()\n",
    "sum_music_user"
   ]
  },
  {
   "cell_type": "code",
   "execution_count": 106,
   "metadata": {},
   "outputs": [
    {
     "data": {
      "text/plain": [
       "genre_name\n",
       "classical      1\n",
       "country        1\n",
       "dance          2\n",
       "folk           1\n",
       "folkrock       1\n",
       "ghazal         1\n",
       "hip            1\n",
       "jazz          16\n",
       "pop           15\n",
       "punk           1\n",
       "reggae         2\n",
       "rnb            1\n",
       "rock           5\n",
       "schlager       5\n",
       "soundtrack     1\n",
       "Name: genre_name, dtype: int64"
      ]
     },
     "execution_count": 106,
     "metadata": {},
     "output_type": "execute_result"
    }
   ],
   "source": [
    "count_music_user =  music_user.groupby('genre_name')['genre_name'].count()\n",
    "count_music_user"
   ]
  },
  {
   "cell_type": "code",
   "execution_count": 107,
   "metadata": {},
   "outputs": [
    {
     "data": {
      "text/plain": [
       "genre_name\n",
       "pop           20:34:4408:46:5114:23:3008:25:3314:22:4309:04:...\n",
       "hip                                                    20:29:56\n",
       "jazz          20:29:5314:23:2714:16:1014:23:0608:39:3914:09:...\n",
       "classical                                              20:26:32\n",
       "folkrock                                               14:29:08\n",
       "rock                   14:12:0214:23:4308:35:5808:56:3008:35:58\n",
       "dance                                          14:11:5614:23:32\n",
       "soundtrack                                             14:09:56\n",
       "folk                                                   13:52:18\n",
       "punk                                                   13:52:12\n",
       "reggae                                         08:46:5509:04:14\n",
       "schlager               08:42:5508:39:3814:13:5409:04:1908:35:45\n",
       "country                                                08:39:24\n",
       "ghazal                                                 08:32:18\n",
       "rnb                                                    08:32:10\n",
       "Name: total_play_seconds, dtype: object"
      ]
     },
     "execution_count": 107,
     "metadata": {},
     "output_type": "execute_result"
    }
   ],
   "source": [
    "final_sum = sum_music_user.sort_values(ascending =  False)\n",
    "final_sum"
   ]
  },
  {
   "cell_type": "code",
   "execution_count": 108,
   "metadata": {},
   "outputs": [
    {
     "data": {
      "text/plain": [
       "genre_name\n",
       "jazz          16\n",
       "pop           15\n",
       "rock           5\n",
       "schlager       5\n",
       "dance          2\n",
       "reggae         2\n",
       "classical      1\n",
       "country        1\n",
       "folk           1\n",
       "folkrock       1\n",
       "ghazal         1\n",
       "hip            1\n",
       "punk           1\n",
       "rnb            1\n",
       "soundtrack     1\n",
       "Name: genre_name, dtype: int64"
      ]
     },
     "execution_count": 108,
     "metadata": {},
     "output_type": "execute_result"
    }
   ],
   "source": [
    "final_count = count_music_user.sort_values(ascending =  False)\n",
    "final_count"
   ]
  }
 ],
 "metadata": {
  "kernelspec": {
   "display_name": "Python 3",
   "language": "python",
   "name": "python3"
  },
  "language_info": {
   "codemirror_mode": {
    "name": "ipython",
    "version": 3
   },
   "file_extension": ".py",
   "mimetype": "text/x-python",
   "name": "python",
   "nbconvert_exporter": "python",
   "pygments_lexer": "ipython3",
   "version": "3.10.7"
  }
 },
 "nbformat": 4,
 "nbformat_minor": 2
}
